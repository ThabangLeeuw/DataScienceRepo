{
 "cells": [
  {
   "cell_type": "markdown",
   "id": "3bd81941-8c84-4633-af7d-513758280fb2",
   "metadata": {},
   "source": [
    "# Data Science Tools and Ecosystem"
   ]
  },
  {
   "cell_type": "markdown",
   "id": "f8728f19-20b6-431d-b354-53764ece6527",
   "metadata": {},
   "source": [
    "# Data Science Tools and Ecosystem"
   ]
  },
  {
   "cell_type": "markdown",
   "id": "74fb639a-7d6f-4fda-9333-c968887cc22a",
   "metadata": {},
   "source": [
    "In this notebook, Data Science Tools and Ecosystem are summarized."
   ]
  },
  {
   "cell_type": "markdown",
   "id": "d3c67a14-e4f2-4c6c-ac35-45c7e336d7fa",
   "metadata": {},
   "source": [
    "In this notebook, Data Science Tools and Ecosystem are summarized."
   ]
  },
  {
   "cell_type": "markdown",
   "id": "a9dcb310-6b73-4d95-9e9d-2c4ea1cb224d",
   "metadata": {},
   "source": [
    "Some of the popular languages that Data Scientists use are:\n",
    "1. Python\n",
    "2. SQL\n",
    "3. R"
   ]
  },
  {
   "cell_type": "markdown",
   "id": "9e23fa39-26d0-4a9a-9fe1-c6ad48f53c59",
   "metadata": {},
   "source": [
    "Some of the popular languages that Data Scientists use are:\n",
    "1. Python\n",
    "2. SQL\n",
    "3. R"
   ]
  },
  {
   "cell_type": "markdown",
   "id": "ea4e1e56-e85f-41a4-a08a-50574e1d42c2",
   "metadata": {},
   "source": [
    "Some of the commonly used libraries used by Data Scientists include:\n",
    "1. Matplotlib\n",
    "2. Sci-kit learn\n",
    "3. NumPy"
   ]
  },
  {
   "cell_type": "markdown",
   "id": "87950bf0-849c-4fec-b103-fdceddeeb052",
   "metadata": {},
   "source": [
    "Some of the commonly used libraries used by Data Scientists include:\n",
    "1. Matplotlib\n",
    "2. Sci-kit learn\n",
    "3. NumPy"
   ]
  },
  {
   "cell_type": "markdown",
   "id": "9e0d4682-be08-4ba6-b7c0-da9ad8109afa",
   "metadata": {},
   "source": [
    "|Data Science Tools  |\n",
    "| ------------------ |\n",
    "|     RStudio        |\n",
    "|Visual Studio Code  |\n",
    "|     Anaconda       |"
   ]
  },
  {
   "cell_type": "markdown",
   "id": "506f6cfc-abd0-47a2-89aa-0b57a5dbe03b",
   "metadata": {},
   "source": [
    "|Data Science Tools  |\n",
    "| ------------------ |\n",
    "|     RStudio        |\n",
    "|Visual Studio Code  |\n",
    "|     Anaconda       |"
   ]
  },
  {
   "cell_type": "markdown",
   "id": "8aba0d0a-63ff-45b5-ae2f-29e16c7e228f",
   "metadata": {},
   "source": [
    "### Below are a few examples of evaluating arithmetic expressions in Python:\n",
    "1. a + b\n",
    "2. a * b\n",
    "3. a / b"
   ]
  },
  {
   "cell_type": "markdown",
   "id": "cb239596-af4d-4708-b151-fe5af48234b4",
   "metadata": {},
   "source": [
    "### Below are a few examples of evaluating arithmetic expressions in Python:\n",
    "1. a + b\n",
    "2. a * b\n",
    "3. a / b"
   ]
  },
  {
   "cell_type": "code",
   "execution_count": null,
   "id": "2cd5adf1-8996-456c-8a1f-801bf40c384f",
   "metadata": {},
   "outputs": [],
   "source": [
    "# This a simple arithmetic expression to mutiply then add integers\n",
    "print"
   ]
  }
 ],
 "metadata": {
  "kernelspec": {
   "display_name": "Python",
   "language": "python",
   "name": "conda-env-python-py"
  },
  "language_info": {
   "codemirror_mode": {
    "name": "ipython",
    "version": 3
   },
   "file_extension": ".py",
   "mimetype": "text/x-python",
   "name": "python",
   "nbconvert_exporter": "python",
   "pygments_lexer": "ipython3",
   "version": "3.7.12"
  }
 },
 "nbformat": 4,
 "nbformat_minor": 5
}
